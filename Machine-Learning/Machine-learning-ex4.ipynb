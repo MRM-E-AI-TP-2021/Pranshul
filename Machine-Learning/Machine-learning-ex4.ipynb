{
 "cells": [
  {
   "cell_type": "code",
   "execution_count": 136,
   "metadata": {},
   "outputs": [],
   "source": [
    "#loading the libraries\n",
    "import os\n",
    "import cv2\n",
    "import scipy\n",
    "from scipy import optimize\n",
    "from scipy.optimize import minimize\n",
    "import numpy as np\n",
    "from scipy.io import loadmat\n",
    "import scipy.misc as smp\n",
    "import random\n",
    "import pandas as pd\n",
    "os.chdir(\"C:/Users/Pranshul/Desktop/machine-learning-ex4/ex4\");"
   ]
  },
  {
   "cell_type": "code",
   "execution_count": 156,
   "metadata": {},
   "outputs": [
    {
     "data": {
      "text/plain": [
       "(1, 400)"
      ]
     },
     "execution_count": 156,
     "metadata": {},
     "output_type": "execute_result"
    }
   ],
   "source": [
    "img_path = 'C:/Users/Pranshul/Desktop/Machine-Learning/1.jpeg';\n",
    "img = cv2.imread(img_path, 0);\n",
    "img_reverted= cv2.bitwise_not(img)\n",
    "img_reverted = np.reshape(img_reverted,(1,400),order='C');\n",
    "img_reverted.shape"
   ]
  },
  {
   "cell_type": "code",
   "execution_count": 147,
   "metadata": {},
   "outputs": [
    {
     "data": {
      "text/plain": [
       "(25, 401)"
      ]
     },
     "execution_count": 147,
     "metadata": {},
     "output_type": "execute_result"
    }
   ],
   "source": [
    "#loading the data\n",
    "data = loadmat(\"ex4data1.mat\");\n",
    "nn_params = loadmat(\"ex4weights.mat\");\n",
    "Theta1 = np.array(nn_params['Theta1']);\n",
    "Theta2 = np.array(nn_params['Theta2']);\n",
    "x = np.array(data['X']);\n",
    "y = np.array(data['y']);\n",
    "input_layer_size  = 400;\n",
    "hidden_layer_size = 25;\n",
    "num_labels = 10;\n",
    "m =x.shape[0];\n",
    "theta1 = Theta1.flatten();\n",
    "theta2 = Theta2.flatten();\n",
    "k = 10;\n",
    "nn_params = np.concatenate((theta1,theta2),axis = 0);\n",
    "size1 = theta1.shape[0]\n",
    "size2 = theta2.shape[0]\n",
    "Theta1.shape"
   ]
  },
  {
   "cell_type": "code",
   "execution_count": 148,
   "metadata": {},
   "outputs": [],
   "source": [
    "lamda = 0;\n",
    "def sigmoid(z):\n",
    "    g = 1/(1 + np.exp(-z));\n",
    "    return g;"
   ]
  },
  {
   "cell_type": "code",
   "execution_count": 149,
   "metadata": {},
   "outputs": [],
   "source": [
    "#Cost function\n",
    "def costfunction(nn_params, input_layer_size, hidden_layer_size,num_labels, x, y,lamda):\n",
    "    Theta1 = np.zeros((hidden_layer_size, input_layer_size + 1));\n",
    "    Theta2 = np.zeros((num_labels, hidden_layer_size + 1));\n",
    "    Theta1 = np.reshape(nn_params[0:int(size1)],(Theta1.shape),order='C')\n",
    "    Theta2 = np.reshape(nn_params[int(size1):int(size1+size2)],(Theta2.shape),order='C')\n",
    "    yvec = np.zeros((m,k));\n",
    "    for i in range(0,m):\n",
    "        yvec[i][int(y[i])-1] = 1;\n",
    "    Theta1 = np.reshape(Theta1,(hidden_layer_size,(input_layer_size+1)),order='C');\n",
    "    Theta2 = np.reshape(Theta2,(num_labels,(hidden_layer_size+1)),order='C');\n",
    "    #calculating the hypothesis\n",
    "    a1 = x;\n",
    "    q1 = np.ones((x.shape[0],1));\n",
    "    a1 = np.append(q1, a1, axis=1);\n",
    "    z1 = np.dot(a1,np.transpose(Theta1));\n",
    "    q2 = np.ones((x.shape[0],1));\n",
    "    z1 = np.append(q2, z1, axis=1);\n",
    "    a2 = sigmoid(z1);\n",
    "    a3 = sigmoid(np.dot(a2,np.transpose(Theta2)));\n",
    "    h = a3;        \n",
    "    #calculating the regularization term\n",
    "    Reg = np.sum(np.dot(Theta1,np.transpose(Theta1))) + np.sum(np.dot(Theta2,np.transpose(Theta2))) ; \n",
    "    #calculating the cost\n",
    "    J = 0;\n",
    "    J = np.sum((-(yvec)*(np.log(h)) - (np.ones(yvec.shape)-yvec)*np.log(np.ones(h.shape) - h)));\n",
    "    J = J/m + lamda*Reg/(2*m);\n",
    "    #calculating the grad\n",
    "    q1 = np.zeros((25,401));\n",
    "    q2 = np.zeros((10,26));\n",
    "    for t in range(0,m):\n",
    "        a1 = x[t,:];\n",
    "        a1 = np.append([1], a1, axis=0);\n",
    "        a1 = np.reshape(a1,(int(a1.shape[0]),1),order='C');\n",
    "        z1 = np.dot(Theta1,a1);\n",
    "        a2 = sigmoid(z1);\n",
    "        w = np.reshape(np.array([1]),(1,1),order='C')\n",
    "        a2 = np.append(w, a2, axis=0);\n",
    "        z2 = np.dot(Theta2,a2);\n",
    "        a3 = sigmoid(z2);\n",
    "        o = yvec[t,:];\n",
    "        o = np.reshape(o,(int(o.shape[0]),1),order='C');\n",
    "        delta3 = np.subtract(a3,o);\n",
    "        delta2 = np.dot(np.transpose(Theta2),delta3) * sigmoidGradient(np.append(w,z1,axis=0));\n",
    "        delta2 = delta2[1:26,:];\n",
    "        q1 = q1 + np.dot(delta2,np.transpose(a1));\n",
    "        q2 = q2 + np.dot(delta3,np.transpose(a2));\n",
    "    q1 = q1/m;\n",
    "    q2 = q2/m;\n",
    "    q1 = np.reshape(q1,(q1.shape[0]*q1.shape[1],1),order='C');\n",
    "    q2 = np.reshape(q2,(q2.shape[0]*q2.shape[1],1),order='C');\n",
    "    grad = np.append(q1,q2,axis=0);\n",
    "\n",
    "    return J,grad;    "
   ]
  },
  {
   "cell_type": "code",
   "execution_count": 150,
   "metadata": {},
   "outputs": [],
   "source": [
    "def sigmoidGradient(z):\n",
    "    g = 1/(1 + np.exp(-z));\n",
    "    g = g*(1-g);\n",
    "    return g;"
   ]
  },
  {
   "cell_type": "code",
   "execution_count": null,
   "metadata": {},
   "outputs": [],
   "source": []
  },
  {
   "cell_type": "code",
   "execution_count": 151,
   "metadata": {},
   "outputs": [
    {
     "data": {
      "text/plain": [
       "(10285,)"
      ]
     },
     "execution_count": 151,
     "metadata": {},
     "output_type": "execute_result"
    }
   ],
   "source": [
    "initial_Theta1 = np.random.randint(-1,1,size=(hidden_layer_size, input_layer_size + 1));\n",
    "initial_Theta2 = np.random.randint(-1,1,size=(hidden_layer_size, num_labels+1));\n",
    "initial_Theta1 = np.reshape(initial_Theta1,(initial_Theta1.shape[0]*initial_Theta1.shape[1],1),order='C');\n",
    "initial_Theta2 = np.reshape(initial_Theta2,(initial_Theta2.shape[0]*initial_Theta2.shape[1],1),order='C');\n",
    "initial_nn_params = np.append(initial_Theta1,initial_Theta2,axis=0);\n",
    "nn_params.shape"
   ]
  },
  {
   "cell_type": "code",
   "execution_count": 155,
   "metadata": {},
   "outputs": [
    {
     "data": {
      "text/plain": [
       "array([[-4.20492876e-02, -1.05624163e-08,  2.19414684e-09, ...,\n",
       "        -1.09975244e-04, -1.64974267e-05,  2.80464449e-09],\n",
       "       [ 4.89041895e-01,  7.66168682e-09, -9.75873689e-09, ...,\n",
       "        -2.93617549e-04,  6.89579610e-07,  3.54422854e-09],\n",
       "       [ 1.37777201e+00, -8.77654466e-09,  8.16037764e-09, ...,\n",
       "        -4.32972145e-04, -7.75452355e-06, -7.50668099e-09],\n",
       "       ...,\n",
       "       [-7.13058243e-01, -8.89272060e-09, -9.81968100e-09, ...,\n",
       "         7.71888426e-05, -1.07282044e-05,  9.02499060e-09],\n",
       "       [-1.93070761e+00,  3.05178374e-10,  2.56061008e-09, ...,\n",
       "        -3.08212675e-03,  3.38991651e-04,  3.83761998e-09],\n",
       "       [-1.47932571e+00,  8.85876862e-09, -6.57515140e-10, ...,\n",
       "        -6.05074571e-05, -2.56087203e-05,  8.79454531e-09]])"
      ]
     },
     "execution_count": 155,
     "metadata": {},
     "output_type": "execute_result"
    }
   ],
   "source": [
    "maxiter = 20\n",
    "lambda_reg = 0.1\n",
    "myargs = (input_layer_size, hidden_layer_size, num_labels, x,y, lambda_reg)\n",
    "results = minimize(costfunction, x0=nn_params, args=myargs, options={'disp': True, 'maxiter':maxiter}, method=\"L-BFGS-B\", jac=True);\n",
    "nn_params = results[\"x\"]\n",
    "Theta1 = np.reshape(nn_params[0:int(size1)],(Theta1.shape),order='C')\n",
    "Theta2 = np.reshape(nn_params[int(size1):int(size1+size2)],(Theta2.shape),order='C');"
   ]
  },
  {
   "cell_type": "code",
   "execution_count": 157,
   "metadata": {},
   "outputs": [],
   "source": [
    "#predicting the number\n",
    "def predict(x,Theta1,Theta2):\n",
    "    p = np.zeros((m,1))\n",
    "    a1 = x;\n",
    "    q1 = np.ones((x.shape[0],1));\n",
    "    a1 = np.append(q1, a1, axis=1);\n",
    "    z1 = np.dot(a1,np.transpose(Theta1));\n",
    "    q2 = np.ones((x.shape[0],1));\n",
    "    z1 = np.append(q2, z1, axis=1);\n",
    "    a2 = sigmoid(z1);\n",
    "    a3 = sigmoid(np.dot(a2,np.transpose(Theta2)));\n",
    "    h = a3; \n",
    "    p = np.argmax(h, axis=1)\n",
    "    return p+1;"
   ]
  },
  {
   "cell_type": "code",
   "execution_count": 170,
   "metadata": {},
   "outputs": [
    {
     "data": {
      "text/plain": [
       "99.94"
      ]
     },
     "execution_count": 170,
     "metadata": {},
     "output_type": "execute_result"
    }
   ],
   "source": [
    "a = predict(x,Theta1,Theta2)\n",
    "a = np.reshape(a,(5000,1),order='C');\n",
    "accuracy = np.sum(a==y)/m*100;\n",
    "accuracy"
   ]
  },
  {
   "cell_type": "code",
   "execution_count": null,
   "metadata": {},
   "outputs": [],
   "source": []
  },
  {
   "cell_type": "code",
   "execution_count": null,
   "metadata": {},
   "outputs": [],
   "source": []
  }
 ],
 "metadata": {
  "kernelspec": {
   "display_name": "Python 3",
   "language": "python",
   "name": "python3"
  },
  "language_info": {
   "codemirror_mode": {
    "name": "ipython",
    "version": 3
   },
   "file_extension": ".py",
   "mimetype": "text/x-python",
   "name": "python",
   "nbconvert_exporter": "python",
   "pygments_lexer": "ipython3",
   "version": "3.7.4"
  }
 },
 "nbformat": 4,
 "nbformat_minor": 2
}
