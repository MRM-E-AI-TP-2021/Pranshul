{
 "cells": [
  {
   "cell_type": "code",
   "execution_count": 1,
   "metadata": {},
   "outputs": [],
   "source": [
    "#loading the libraries\n",
    "import os\n",
    "import numpy as np\n",
    "from scipy.io import loadmat\n",
    "import scipy.misc as smp\n",
    "import random\n",
    "import pandas as pd\n",
    "os.chdir(\"C:/Users/Pranshul/Desktop/machine-learning-ex4/ex4\");"
   ]
  },
  {
   "cell_type": "code",
   "execution_count": null,
   "metadata": {},
   "outputs": [],
   "source": []
  },
  {
   "cell_type": "code",
   "execution_count": 2,
   "metadata": {},
   "outputs": [],
   "source": [
    "#loading the data\n",
    "data = loadmat(\"ex4data1.mat\");\n",
    "nn_params = loadmat(\"ex4weights.mat\");\n",
    "Theta1 = np.array(nn_params['Theta1']);\n",
    "Theta2 = np.array(nn_params['Theta2']);\n",
    "x = np.array(data['X']);\n",
    "y = np.array(data['y']);\n",
    "input_layer_size  = 400;\n",
    "hidden_layer_size = 25;\n",
    "num_labels = 10;\n",
    "m =x.shape[0];\n",
    "theta1 = Theta1.flatten();\n",
    "theta2 = Theta2.flatten();\n",
    "k = 10;\n",
    "nn_params = np.concatenate((theta1,theta2),axis = 0);\n",
    "size01 = Theta1.shape[0]\n",
    "size11 = Theta1.shape[1]\n",
    "size02 = Theta2.shape[0]\n",
    "size12 = Theta2.shape[1]\n"
   ]
  },
  {
   "cell_type": "code",
   "execution_count": 3,
   "metadata": {},
   "outputs": [],
   "source": [
    "lamda = 0;\n",
    "def sigmoid(z):\n",
    "    g = 1/(1 + np.exp(-z));\n",
    "    return g;"
   ]
  },
  {
   "cell_type": "code",
   "execution_count": 4,
   "metadata": {},
   "outputs": [],
   "source": [
    "#Cost function\n",
    "def costfunction(nn_params,Theta1,Theta2, input_layer_size, hidden_layer_size,num_labels, x, y,lamda):\n",
    "    yvec = np.zeros((m,k));\n",
    "    for i in range(0,m):\n",
    "        yvec[i][int(y[i])-1] = 1;\n",
    "    Theta1 = np.reshape(Theta1,(hidden_layer_size,(input_layer_size+1)),order='C');\n",
    "    Theta2 = np.reshape(Theta2,(num_labels,(hidden_layer_size+1)),order='C');\n",
    "    #calculating the hypothesis\n",
    "    a1 = x;\n",
    "    q1 = np.ones((x.shape[0],1));\n",
    "    a1 = np.append(q1, a1, axis=1);\n",
    "    z1 = np.dot(a1,np.transpose(Theta1));\n",
    "    q2 = np.ones((x.shape[0],1));\n",
    "    z1 = np.append(q2, z1, axis=1);\n",
    "    a2 = sigmoid(z1);\n",
    "    a3 = sigmoid(np.dot(a2,np.transpose(Theta2)));\n",
    "    h = a3;        \n",
    "    #calculating the regularization term\n",
    "    Reg = np.sum(np.dot(Theta1,np.transpose(Theta1))) + np.sum(np.dot(Theta2,np.transpose(Theta2))) ; \n",
    "    #calculating the cost\n",
    "    J = 0;\n",
    "    J = np.sum((-(yvec)*(np.log(h)) - (np.ones(yvec.shape)-yvec)*np.log(np.ones(h.shape) - h)));\n",
    "    J = J/m + lamda*Reg/(2*m);\n",
    "    return a1;    "
   ]
  },
  {
   "cell_type": "code",
   "execution_count": 5,
   "metadata": {},
   "outputs": [],
   "source": [
    "def sigmoidGradient(z):\n",
    "    g = 1/(1 + np.exp(-z));\n",
    "    g = g*(1-g);\n",
    "    return g;"
   ]
  },
  {
   "cell_type": "code",
   "execution_count": 25,
   "metadata": {},
   "outputs": [],
   "source": [
    "def grad(nn_params,Theta1,Theta2, input_layer_size, hidden_layer_size,num_labels, x, y,lamda):\n",
    "    yvec = np.zeros((m,k));\n",
    "    for i in range(0,m):\n",
    "        yvec[i][int(y[i])-1] = 1;\n",
    "    Theta1 = np.reshape(Theta1,(hidden_layer_size,(input_layer_size+1)),order='C');\n",
    "    Theta2 = np.reshape(Theta2,(num_labels,(hidden_layer_size+1)),order='C');\n",
    "    q1 = np.zeros((25,401));\n",
    "    q2 = np.zeros((10,26));\n",
    "    for t in range(0,m):\n",
    "        a1 = x[t,:];\n",
    "        a1 = np.append([1], a1, axis=0);\n",
    "        a1 = np.reshape(a1,(int(a1.shape[0]),1),order='C');\n",
    "        z1 = np.dot(Theta1,a1);\n",
    "        a2 = sigmoid(z1);\n",
    "        w = np.reshape(np.array([1]),(1,1),order='C')\n",
    "        a2 = np.append(w, a2, axis=0);\n",
    "        z2 = np.dot(Theta2,a2);\n",
    "        a3 = sigmoid(z2);\n",
    "        o = yvec[t,:];\n",
    "        o = np.reshape(o,(int(o.shape[0]),1),order='C');\n",
    "        delta3 = np.subtract(a3,o);\n",
    "        delta2 = np.dot(np.transpose(Theta2),delta3) * sigmoidGradient(np.append(w,z1,axis=0));\n",
    "        delta2 = delta2[1:26,:];\n",
    "        q1 = q1 + np.dot(delta2,np.transpose(a1));\n",
    "        q2 = q2 + np.dot(delta3,np.transpose(a2));\n",
    "    q1 = q1/m;\n",
    "    q2 = q2/m;\n",
    "    q1 = np.reshape(q1,(q1.shape[0]*q1.shape[1],1),order='C');\n",
    "    q2 = np.reshape(q2,(q2.shape[0]*q2.shape[1],1),order='C');\n",
    "    grad = np.append(q1,q2,axis=0);\n",
    "    return grad;"
   ]
  },
  {
   "cell_type": "code",
   "execution_count": null,
   "metadata": {},
   "outputs": [],
   "source": []
  },
  {
   "cell_type": "code",
   "execution_count": null,
   "metadata": {},
   "outputs": [],
   "source": []
  },
  {
   "cell_type": "code",
   "execution_count": null,
   "metadata": {},
   "outputs": [],
   "source": []
  },
  {
   "cell_type": "code",
   "execution_count": null,
   "metadata": {},
   "outputs": [],
   "source": []
  }
 ],
 "metadata": {
  "kernelspec": {
   "display_name": "Python 3",
   "language": "python",
   "name": "python3"
  },
  "language_info": {
   "codemirror_mode": {
    "name": "ipython",
    "version": 3
   },
   "file_extension": ".py",
   "mimetype": "text/x-python",
   "name": "python",
   "nbconvert_exporter": "python",
   "pygments_lexer": "ipython3",
   "version": "3.7.4"
  }
 },
 "nbformat": 4,
 "nbformat_minor": 2
}
