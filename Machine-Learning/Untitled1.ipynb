{
 "cells": [
  {
   "cell_type": "code",
   "execution_count": 42,
   "metadata": {},
   "outputs": [
    {
     "data": {
      "text/html": [
       "<div>\n",
       "<style scoped>\n",
       "    .dataframe tbody tr th:only-of-type {\n",
       "        vertical-align: middle;\n",
       "    }\n",
       "\n",
       "    .dataframe tbody tr th {\n",
       "        vertical-align: top;\n",
       "    }\n",
       "\n",
       "    .dataframe thead th {\n",
       "        text-align: right;\n",
       "    }\n",
       "</style>\n",
       "<table border=\"1\" class=\"dataframe\">\n",
       "  <thead>\n",
       "    <tr style=\"text-align: right;\">\n",
       "      <th></th>\n",
       "      <th>X1</th>\n",
       "      <th>X2</th>\n",
       "      <th>Y</th>\n",
       "    </tr>\n",
       "  </thead>\n",
       "  <tbody>\n",
       "    <tr>\n",
       "      <td>0</td>\n",
       "      <td>34.623660</td>\n",
       "      <td>78.024693</td>\n",
       "      <td>0</td>\n",
       "    </tr>\n",
       "    <tr>\n",
       "      <td>1</td>\n",
       "      <td>30.286711</td>\n",
       "      <td>43.894998</td>\n",
       "      <td>0</td>\n",
       "    </tr>\n",
       "    <tr>\n",
       "      <td>2</td>\n",
       "      <td>35.847409</td>\n",
       "      <td>72.902198</td>\n",
       "      <td>0</td>\n",
       "    </tr>\n",
       "    <tr>\n",
       "      <td>3</td>\n",
       "      <td>60.182599</td>\n",
       "      <td>86.308552</td>\n",
       "      <td>1</td>\n",
       "    </tr>\n",
       "    <tr>\n",
       "      <td>4</td>\n",
       "      <td>79.032736</td>\n",
       "      <td>75.344376</td>\n",
       "      <td>1</td>\n",
       "    </tr>\n",
       "    <tr>\n",
       "      <td>...</td>\n",
       "      <td>...</td>\n",
       "      <td>...</td>\n",
       "      <td>...</td>\n",
       "    </tr>\n",
       "    <tr>\n",
       "      <td>95</td>\n",
       "      <td>83.489163</td>\n",
       "      <td>48.380286</td>\n",
       "      <td>1</td>\n",
       "    </tr>\n",
       "    <tr>\n",
       "      <td>96</td>\n",
       "      <td>42.261701</td>\n",
       "      <td>87.103851</td>\n",
       "      <td>1</td>\n",
       "    </tr>\n",
       "    <tr>\n",
       "      <td>97</td>\n",
       "      <td>99.315009</td>\n",
       "      <td>68.775409</td>\n",
       "      <td>1</td>\n",
       "    </tr>\n",
       "    <tr>\n",
       "      <td>98</td>\n",
       "      <td>55.340018</td>\n",
       "      <td>64.931938</td>\n",
       "      <td>1</td>\n",
       "    </tr>\n",
       "    <tr>\n",
       "      <td>99</td>\n",
       "      <td>74.775893</td>\n",
       "      <td>89.529813</td>\n",
       "      <td>1</td>\n",
       "    </tr>\n",
       "  </tbody>\n",
       "</table>\n",
       "<p>100 rows × 3 columns</p>\n",
       "</div>"
      ],
      "text/plain": [
       "           X1         X2  Y\n",
       "0   34.623660  78.024693  0\n",
       "1   30.286711  43.894998  0\n",
       "2   35.847409  72.902198  0\n",
       "3   60.182599  86.308552  1\n",
       "4   79.032736  75.344376  1\n",
       "..        ...        ... ..\n",
       "95  83.489163  48.380286  1\n",
       "96  42.261701  87.103851  1\n",
       "97  99.315009  68.775409  1\n",
       "98  55.340018  64.931938  1\n",
       "99  74.775893  89.529813  1\n",
       "\n",
       "[100 rows x 3 columns]"
      ]
     },
     "execution_count": 42,
     "metadata": {},
     "output_type": "execute_result"
    }
   ],
   "source": [
    "import pandas as pd\n",
    "import os\n",
    "import matplotlib.pyplot as plt\n",
    "import numpy as np\n",
    "from scipy.optimize import minimize\n",
    "os.chdir(\"C:/Users/Pranshul/Desktop/machine-learning-ex2/ex2\")\n",
    "data = pd.read_csv(\"ex2data1.txt\")\n",
    "data"
   ]
  },
  {
   "cell_type": "code",
   "execution_count": 43,
   "metadata": {},
   "outputs": [],
   "source": [
    "X1 = data.X1;\n",
    "X2 = data.X2;\n",
    "Y = data.Y;\n",
    "i = np.ones(X1.shape[0])\n",
    "x1 = np.array(X1);\n",
    "x2 = np.array(X2);\n",
    "y = np.array(Y);\n",
    "m = y.shape[0];\n",
    "lamda = 1000;"
   ]
  },
  {
   "cell_type": "code",
   "execution_count": 44,
   "metadata": {
    "scrolled": true
   },
   "outputs": [],
   "source": [
    "def sigmoid(z):\n",
    "    g = 1/(1 + np.exp(-z));\n",
    "    return g;"
   ]
  },
  {
   "cell_type": "code",
   "execution_count": 45,
   "metadata": {},
   "outputs": [],
   "source": [
    "m = y.shape[0];\n",
    "theta = np.array([-24, 0.2, 0.2]);\n",
    "p = theta.shape[0];\n",
    "def costfunction(y,x1,x2,theta):\n",
    "    j=0;\n",
    "    q=0;\n",
    "    m = y.shape[0];\n",
    "    h = np.zeros(m);\n",
    "    for n in range(0,p):\n",
    "        q = q + pow(theta[n],2);\n",
    "    for n in range(0,m):\n",
    "           h[n] = sigmoid(theta[0] + theta[1]*x1[n] + theta[2]*x2[n]);\n",
    "    for n in range(0,m):\n",
    "        j = j + -y[n]*(np.log(h[n])) - (1 - y[n])*(np.log(1 - h[n]));\n",
    "    j = j/m + (lamda/(2*m))*q;\n",
    "    return j;\n"
   ]
  },
  {
   "cell_type": "code",
   "execution_count": 46,
   "metadata": {},
   "outputs": [],
   "source": [
    "def grad(y,x1,x2,theta):\n",
    "    m = y.shape[0];\n",
    "    p = theta.shape[0];\n",
    "    h = np.zeros(m);\n",
    "    grad = np.zeros(p);\n",
    "    for n in range(0,m):\n",
    "           h[n] = sigmoid(theta[0] + theta[1]*x1[n] + theta[2]*x2[n]);\n",
    "    for k in range(0,m):\n",
    "          grad[0] = grad[0] + (i[k]*(h[k] - y[k]));\n",
    "          grad[1] = grad[1] + (x1[k]*(h[k] - y[k]));\n",
    "          grad[2] = grad[2] + (x2[k]*(h[k] - y[k]));\n",
    "    grad[0] = grad[0]/m;\n",
    "    for n in range(1,p):\n",
    "        grad[n] = grad[n]/m + (lamda/m)*theta[n];\n",
    "    return grad;"
   ]
  },
  {
   "cell_type": "code",
   "execution_count": 47,
   "metadata": {},
   "outputs": [
    {
     "data": {
      "text/plain": [
       "array([0.04290299, 4.56623412, 4.64679737])"
      ]
     },
     "execution_count": 47,
     "metadata": {},
     "output_type": "execute_result"
    }
   ],
   "source": [
    "grad(y,x1,x2,theta)"
   ]
  },
  {
   "cell_type": "code",
   "execution_count": 48,
   "metadata": {},
   "outputs": [],
   "source": [
    "iterations = 15000;\n",
    "alpha = 0.001;\n",
    "h = np.zeros(m);\n",
    "for n in range(0,iterations):\n",
    "    r=np.zeros(p);\n",
    "    for n in range(0,m):\n",
    "           h[n] = sigmoid(theta[0] + theta[1]*x1[n] + theta[2]*x2[n]);\n",
    "    for j in range(0,m):\n",
    "        r[0] = r[0] + (h[j] - y[j]);\n",
    "        r[1] = r[1] + (h[j] - y[j]) * x1[j];\n",
    "        r[2] = r[2] + (h[j] - y[j]) * x2[j];\n",
    "       \n",
    "    for q in range(0,p): \n",
    "        theta[q] = theta[q] - alpha * r[q]/m;\n"
   ]
  },
  {
   "cell_type": "code",
   "execution_count": 49,
   "metadata": {},
   "outputs": [
    {
     "data": {
      "text/plain": [
       "array([-24.00558013,   0.19698882,   0.1921186 ])"
      ]
     },
     "execution_count": 49,
     "metadata": {},
     "output_type": "execute_result"
    }
   ],
   "source": [
    "theta"
   ]
  },
  {
   "cell_type": "code",
   "execution_count": 50,
   "metadata": {},
   "outputs": [],
   "source": [
    "def predict(x1,x2,theta):\n",
    "        a = np.zeros(m);\n",
    "        s = np.zeros(m);\n",
    "        for n in range(0,m):\n",
    "            a[n] = a[n] + theta[0]*i[n] + theta[1]*x1[n] + theta[2]*x2[n];\n",
    "            a[n] = sigmoid(a[n]);\n",
    "            if(a[n]>=0.5):\n",
    "                s[n] = 1;\n",
    "            else:\n",
    "                s[n] = 0;\n",
    "        return s;"
   ]
  },
  {
   "cell_type": "code",
   "execution_count": 51,
   "metadata": {},
   "outputs": [
    {
     "name": "stdout",
     "output_type": "stream",
     "text": [
      "accuracy = 89\n"
     ]
    }
   ],
   "source": [
    "count =0;\n",
    "for n in range(0,m):\n",
    "    if(y[n]==predict(x1,x2,theta)[n]):\n",
    "        count = count + 1;\n",
    "print(\"accuracy =\" ,count);"
   ]
  },
  {
   "cell_type": "code",
   "execution_count": null,
   "metadata": {},
   "outputs": [],
   "source": []
  },
  {
   "cell_type": "code",
   "execution_count": null,
   "metadata": {},
   "outputs": [],
   "source": []
  },
  {
   "cell_type": "code",
   "execution_count": null,
   "metadata": {},
   "outputs": [],
   "source": []
  },
  {
   "cell_type": "code",
   "execution_count": null,
   "metadata": {},
   "outputs": [],
   "source": []
  },
  {
   "cell_type": "code",
   "execution_count": null,
   "metadata": {},
   "outputs": [],
   "source": []
  },
  {
   "cell_type": "code",
   "execution_count": null,
   "metadata": {},
   "outputs": [],
   "source": []
  },
  {
   "cell_type": "code",
   "execution_count": null,
   "metadata": {},
   "outputs": [],
   "source": []
  },
  {
   "cell_type": "code",
   "execution_count": null,
   "metadata": {},
   "outputs": [],
   "source": []
  }
 ],
 "metadata": {
  "kernelspec": {
   "display_name": "Python 3",
   "language": "python",
   "name": "python3"
  },
  "language_info": {
   "codemirror_mode": {
    "name": "ipython",
    "version": 3
   },
   "file_extension": ".py",
   "mimetype": "text/x-python",
   "name": "python",
   "nbconvert_exporter": "python",
   "pygments_lexer": "ipython3",
   "version": "3.7.4"
  }
 },
 "nbformat": 4,
 "nbformat_minor": 2
}
